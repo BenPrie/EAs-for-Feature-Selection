{
 "cells": [
  {
   "cell_type": "code",
   "execution_count": 81,
   "metadata": {},
   "outputs": [],
   "source": [
    "# Imports as always...\n",
    "import random\n",
    "import numpy as np\n",
    "\n",
    "from fitness import fitness_function\n",
    "\n",
    "# Show all outputs.\n",
    "from IPython.core.interactiveshell import InteractiveShell\n",
    "InteractiveShell.ast_node_interactivity = \"all\""
   ]
  },
  {
   "cell_type": "code",
   "execution_count": 82,
   "metadata": {},
   "outputs": [
    {
     "name": "stdout",
     "output_type": "stream",
     "text": [
      "Number of potential solutions: 1073741824\n"
     ]
    }
   ],
   "source": [
    "# How many combinations of features are there?\n",
    "# This is the same question as: how big is the solution space?\n",
    "\n",
    "# We have 30 features to choose from, each being either selected or not selected.\n",
    "print(\"Number of potential solutions:\", 2**30)"
   ]
  },
  {
   "cell_type": "code",
   "execution_count": 83,
   "metadata": {},
   "outputs": [],
   "source": [
    "# EA parameters...\n",
    "\n",
    "# Population size (i.e. the number of candidate solutions in each generation).\n",
    "pop_size = 50\n",
    "# Length of each candidate solution  (i.e. the number of features.)\n",
    "candidate_length = 30\n",
    "# Limit on the number of generations to prevent excessive computation.\n",
    "gen_limit = 100\n",
    "# Size of the mating pool (must be even and smaller than pop_size).\n",
    "pool_size = 20\n",
    "# Size of the tournament for tournament selection (must be smaller than pool_size).\n",
    "tournament_size = 5\n",
    "# Crossover rate.\n",
    "crossover_rate = 0.9\n",
    "# Mutation rate.\n",
    "mutation_rate = 0.2\n",
    "# Threshold for improvement (used to decide when to terminate early).\n",
    "improve_threshold = 0.001"
   ]
  },
  {
   "cell_type": "code",
   "execution_count": 84,
   "metadata": {},
   "outputs": [],
   "source": [
    "# Count the generations.\n",
    "gen = 0\n",
    "\n",
    "# Initialise the population.\n",
    "pop = [[random.randint(0, 1) for x in range(candidate_length)] for y in range(pop_size)]"
   ]
  },
  {
   "cell_type": "code",
   "execution_count": 85,
   "metadata": {},
   "outputs": [
    {
     "name": "stdout",
     "output_type": "stream",
     "text": [
      "Initial fitness report...\n",
      "Minimum fitness: 0.9298245614035088\n",
      "Mean fitness: 0.9568421052631578\n",
      "Maximum fitness: 0.9824561403508771\n"
     ]
    }
   ],
   "source": [
    "# Compute the fitness of the initial population.\n",
    "fitness = [fitness_function(individual) for individual in pop]\n",
    "print('Initial fitness report...')\n",
    "print('Minimum fitness: {}\\nMean fitness: {}\\nMaximum fitness: {}'.format(\n",
    "    np.min(fitness), np.mean(fitness), np.max(fitness)\n",
    "))"
   ]
  },
  {
   "cell_type": "code",
   "execution_count": 86,
   "metadata": {},
   "outputs": [],
   "source": [
    "# Tournament parent selection. \n",
    "# We will not use replacement, which introduces the possibility for asexual reproduction.\n",
    "# The returned ordering of parents will be random (according to the random package)\n",
    "def tournament_selection(fitness):\n",
    "    parents = []\n",
    "\n",
    "    for i in range(pool_size):\n",
    "        # Select from competitors from the population.\n",
    "        competitors = random.sample(list(range(pop_size)), tournament_size)\n",
    "\n",
    "        # Find the winning competitor (i.e. the competitor with highest fitness).\n",
    "        winner = competitors[0]\n",
    "        for competitor in competitors:\n",
    "            if fitness[competitor] > fitness[winner]:\n",
    "                winner = competitor\n",
    "\n",
    "        # Select the winner to be a parent.\n",
    "        parents.append(winner)\n",
    "\n",
    "    return parents"
   ]
  },
  {
   "cell_type": "code",
   "execution_count": 87,
   "metadata": {},
   "outputs": [],
   "source": [
    "# One-point crossover for permutation representations.\n",
    "# We will use notation: a and b for parents, and x and y for offspring.\n",
    "def cut_and_crossfill(a, b):\n",
    "    # Choose a random crossover point.\n",
    "    # This cannot be the index o the last element, lest there be no second half!\n",
    "    crossover_point = random.randint(0, candidate_length - 2)\n",
    "\n",
    "    # Split the parents at the crossover point.\n",
    "    a_first, a_second = a[:crossover_point], a[crossover_point:]\n",
    "    b_first, b_second = b[:crossover_point], b[crossover_point:]\n",
    "\n",
    "    # Construct the offspring from the parent segments.\n",
    "    x = a_first + b_second\n",
    "    y = b_first + a_second\n",
    "\n",
    "    return x, y"
   ]
  },
  {
   "cell_type": "code",
   "execution_count": 88,
   "metadata": {},
   "outputs": [],
   "source": [
    "# Mutate a permutation (by swapping two genes at random).\n",
    "def swap_mutation(individual):\n",
    "    mutant = individual.copy()\n",
    "\n",
    "    # Choose two genes at random.\n",
    "    gene_a = random.randint(0, candidate_length - 1)\n",
    "    gene_b = random.randint(0, candidate_length - 1)\n",
    "\n",
    "    # Do not allow the genes to be the same -- no swapping with itself!\n",
    "    while gene_a == gene_b:\n",
    "        gene_b = random.randint(0, candidate_length - 1)\n",
    "\n",
    "    # Swap the genes.\n",
    "    mutant[gene_a], mutant[gene_b] = mutant[gene_b], mutant[gene_a]\n",
    "\n",
    "    return mutant"
   ]
  },
  {
   "cell_type": "code",
   "execution_count": 89,
   "metadata": {},
   "outputs": [],
   "source": [
    "# mu + lambda survivor selection. \n",
    "def mu_plus_lambda(pop, fitness, offspring_pop, offspring_fitness):\n",
    "    # Target population size.\n",
    "    mu = pop_size\n",
    "\n",
    "    # Join the population with the offspring (likewise with fitness).\n",
    "    super_pop = pop + offspring_pop\n",
    "    super_fitness = fitness + offspring_fitness\n",
    "\n",
    "    # Create a list of candidate-fitness pairs.\n",
    "    pairs = [(super_pop[i], super_fitness[i]) for i in range(len(super_pop))]\n",
    "\n",
    "    # Sort the pairs by fitness (descending).\n",
    "    sorted_pairs = sorted(pairs, key=lambda x: x[1], reverse=True)\n",
    "\n",
    "    # Select the best (i.e. first) mu pairs.\n",
    "    new_pop = list(map(lambda x: x[0], sorted_pairs))[:mu]\n",
    "    new_fitness = list(map(lambda x: x[1], sorted_pairs))[:mu]\n",
    "\n",
    "    return new_pop, new_fitness"
   ]
  },
  {
   "cell_type": "code",
   "execution_count": 90,
   "metadata": {},
   "outputs": [
    {
     "name": "stdout",
     "output_type": "stream",
     "text": [
      "Generation 1... min: 0.956140350877193, mean: 0.9678947368421053, max: 0.9824561403508771\n",
      "\n",
      "Generation 2... min: 0.9649122807017544, mean: 0.9736842105263157, max: 0.9824561403508771\n",
      "\n",
      "Generation 3... min: 0.9736842105263158, mean: 0.9775438596491227, max: 0.9912280701754386\n",
      "\n",
      "Generation 4... min: 0.9736842105263158, mean: 0.9805263157894737, max: 0.9912280701754386\n",
      "\n",
      "Generation 5... min: 0.9736842105263158, mean: 0.9835087719298243, max: 0.9912280701754386\n",
      "\n",
      "Generation 6... min: 0.9824561403508771, mean: 0.9856140350877192, max: 0.9912280701754386\n",
      "\n",
      "Generation 7... min: 0.9824561403508771, mean: 0.987719298245614, max: 0.9912280701754386\n",
      "\n",
      "Generation 8... min: 0.9824561403508771, mean: 0.990701754385965, max: 0.9912280701754386\n",
      "\n",
      "Generation 9... min: 0.9912280701754386, mean: 0.9912280701754385, max: 0.9912280701754386\n",
      "\n",
      "Generation 10... min: 0.9912280701754386, mean: 0.9912280701754385, max: 0.9912280701754386\n",
      "\n",
      "Early termiantion.\n"
     ]
    }
   ],
   "source": [
    "# Begin evolution...\n",
    "\n",
    "two_means_ago = 0\n",
    "one_mean_ago = 0\n",
    "current_mean = 0\n",
    "while gen < gen_limit:\n",
    "    # Select the parents.\n",
    "    parents = tournament_selection(fitness)\n",
    "\n",
    "    # Produce offspring from the parents.\n",
    "    offspring_pop = []\n",
    "    offspring_fitness = []\n",
    "    parents_counter = 0\n",
    "    while len(offspring_pop) < pool_size:\n",
    "        # Recombination...\n",
    "        if random.random() < crossover_rate:\n",
    "            x, y = cut_and_crossfill(pop[parents[parents_counter]], pop[parents[parents_counter + 1]])\n",
    "        else:\n",
    "            x, y = pop[parents[parents_counter]].copy(), pop[parents[parents_counter + 1]].copy()\n",
    "\n",
    "        # Mutation...\n",
    "        if random.random() < mutation_rate:\n",
    "            x = swap_mutation(x)\n",
    "        if random.random() < mutation_rate:\n",
    "            y = swap_mutation(y)\n",
    "\n",
    "        # Add the offspring to the population and evaluate their fitness. \n",
    "        offspring_pop.append(x)\n",
    "        offspring_fitness.append(fitness_function(x))\n",
    "        offspring_pop.append(y)\n",
    "        offspring_fitness.append(fitness_function(y))\n",
    "\n",
    "        # Update the parent counter.\n",
    "        parents_counter += 2\n",
    "\n",
    "    # Select the survivors (which candidate solutions continue to the next generation?).\n",
    "    pop, fitness = mu_plus_lambda(pop, fitness, offspring_pop, offspring_fitness)\n",
    "\n",
    "    # Update the generation counter.\n",
    "    gen += 1\n",
    "\n",
    "    # Give a fitness report on the generation.\n",
    "    print('Generation {}... min: {}, mean: {}, max: {}\\n'.format(\n",
    "        gen, np.min(fitness), np.mean(fitness), np.max(fitness)\n",
    "    ))\n",
    "\n",
    "    # Early termination if the generations are changing much anymore.\n",
    "    if gen > 2:\n",
    "        two_means_ago = one_mean_ago\n",
    "        one_mean_ago = current_mean\n",
    "        current_mean = np.mean(fitness)\n",
    "\n",
    "        if abs(two_means_ago - one_mean_ago) < improve_threshold and abs(one_mean_ago - current_mean) < improve_threshold:\n",
    "            print('Early termiantion.')\n",
    "            break\n"
   ]
  }
 ],
 "metadata": {
  "kernelspec": {
   "display_name": "Python 3",
   "language": "python",
   "name": "python3"
  },
  "language_info": {
   "codemirror_mode": {
    "name": "ipython",
    "version": 3
   },
   "file_extension": ".py",
   "mimetype": "text/x-python",
   "name": "python",
   "nbconvert_exporter": "python",
   "pygments_lexer": "ipython3",
   "version": "3.9.13"
  },
  "orig_nbformat": 4,
  "vscode": {
   "interpreter": {
    "hash": "51b247d887519ae5f7ee722485e5c6dc7c9b200f006446aff3a9d042e7ab81e7"
   }
  }
 },
 "nbformat": 4,
 "nbformat_minor": 2
}
