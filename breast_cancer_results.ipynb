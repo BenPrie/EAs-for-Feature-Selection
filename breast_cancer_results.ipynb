{
 "cells": [
  {
   "cell_type": "code",
   "execution_count": 1,
   "metadata": {},
   "outputs": [],
   "source": [
    "from feature_selection import GeneSift\n",
    "\n",
    "import numpy as np\n",
    "import pandas as pd\n",
    "\n",
    "from sklearn.model_selection import train_test_split\n",
    "from sklearn.preprocessing import StandardScaler\n",
    "from sklearn.linear_model import LogisticRegression\n",
    "from sklearn.metrics import accuracy_score"
   ]
  },
  {
   "attachments": {},
   "cell_type": "markdown",
   "metadata": {},
   "source": [
    "## GeneSift Evaluation"
   ]
  },
  {
   "attachments": {},
   "cell_type": "markdown",
   "metadata": {},
   "source": [
    "To start with, let's evaluate GeneSift's performance."
   ]
  },
  {
   "cell_type": "code",
   "execution_count": 12,
   "metadata": {},
   "outputs": [
    {
     "name": "stdout",
     "output_type": "stream",
     "text": [
      "Final fitness: 0.989010989010989\n"
     ]
    }
   ],
   "source": [
    "# Prepare data...\n",
    "\n",
    "# Read in the data (ignoring the 'Unnamed: 32' feature, and removing the id).\n",
    "data = pd.read_csv(r'breast_cancer_data.csv').drop(columns=['id', 'Unnamed: 32'])\n",
    "\n",
    "# Convert diagnoses into binary output (0 or 1).\n",
    "data = pd.get_dummies(data, 'diagnosis').drop(columns=['diagnosis_B']).rename({'diagnosis_M' : 'diagnosis'}, axis=1)\n",
    "\n",
    "# Seperate labels from predictors\n",
    "y = data['diagnosis']\n",
    "X = data.drop(columns=['diagnosis'])\n",
    "\n",
    "# Split the data into training and testing sets (arbitrarily an 80-20% split).\n",
    "X_train, X_test, y_train, y_test = train_test_split(X, y , test_size=0.2, random_state=0)\n",
    "\n",
    "# EA parameters...\n",
    "# These are literally the first values we've tried. They seem to work fine.\n",
    "# Hence, there is plenty of room for experimentation!\n",
    "\n",
    "# Population size (i.e. the number of candidate solutions in each generation).\n",
    "pop_size = 100\n",
    "# Length of each candidate solution  (i.e. the number of features.)\n",
    "candidate_length = len(X.columns)\n",
    "# Limit on the number of generations to prevent excessive computation.\n",
    "gen_limit = 250\n",
    "# Size of the mating pool (must be even and smaller than pop_size).\n",
    "pool_size = 50\n",
    "# Size of the tournament for tournament selection (must be smaller than pool_size).\n",
    "tournament_size = 20\n",
    "# Crossover rate.\n",
    "crossover_rate = 0.9\n",
    "# Mutation rate.\n",
    "mutation_rate = 0.2\n",
    "# Threshold for improvement (used to decide when to terminate early).\n",
    "improve_threshold = 0.0001\n",
    "\n",
    "# Instantiate a GeneSift selector.\n",
    "geneSift = GeneSift(pop_size, candidate_length, gen_limit, pool_size, tournament_size, crossover_rate, mutation_rate, improve_threshold)\n",
    "\n",
    "# Establish the data.\n",
    "geneSift.establish_data(X_train, y_train)\n",
    "\n",
    "# Find the optimal features.\n",
    "selection = geneSift.find_optimal_features()\n",
    "\n",
    "# Report the final fitness.\n",
    "print('Final fitness:', geneSift.fitness_function(selection))"
   ]
  },
  {
   "attachments": {},
   "cell_type": "markdown",
   "metadata": {},
   "source": [
    "Which features are selected?"
   ]
  },
  {
   "cell_type": "code",
   "execution_count": 13,
   "metadata": {},
   "outputs": [],
   "source": [
    "counts = [0] * candidate_length\n",
    "algorithm_runs = 50\n",
    "\n",
    "for i in range(algorithm_runs):\n",
    "    selection = geneSift.find_optimal_features()\n",
    "\n",
    "    for j in range(candidate_length):\n",
    "        counts[j] += selection[j]\n",
    "\n",
    "probabilities = [count / algorithm_runs for count in counts]"
   ]
  },
  {
   "cell_type": "code",
   "execution_count": 14,
   "metadata": {},
   "outputs": [
    {
     "name": "stdout",
     "output_type": "stream",
     "text": [
      "[0.48, 0.72, 0.38, 0.34, 0.62, 0.48, 0.62, 0.24, 0.48, 0.6, 0.82, 0.44, 0.48, 0.44, 0.58, 0.26, 0.54, 0.46, 0.5, 0.7, 0.56, 0.1, 0.5, 0.44, 0.9, 0.46, 0.58, 0.38, 0.58, 0.3]\n"
     ]
    }
   ],
   "source": [
    "print(probabilities)"
   ]
  },
  {
   "cell_type": "code",
   "execution_count": 15,
   "metadata": {},
   "outputs": [
    {
     "name": "stdout",
     "output_type": "stream",
     "text": [
      "['Pretty much at random', 'Frequently', 'Infrequently', 'Infrequently', 'Frequently', 'Pretty much at random', 'Frequently', 'Infrequently', 'Pretty much at random', 'Pretty much at random', 'Almost always', 'Pretty much at random', 'Pretty much at random', 'Pretty much at random', 'Pretty much at random', 'Infrequently', 'Pretty much at random', 'Pretty much at random', 'Pretty much at random', 'Frequently', 'Pretty much at random', 'Almost never', 'Pretty much at random', 'Pretty much at random', 'Almost always', 'Pretty much at random', 'Pretty much at random', 'Infrequently', 'Pretty much at random', 'Infrequently']\n"
     ]
    }
   ],
   "source": [
    "interpretations = []\n",
    "for prob in probabilities:\n",
    "    if prob < 0.2:\n",
    "        interpretations.append('Almost never')\n",
    "    elif prob < 0.4:\n",
    "        interpretations.append('Infrequently')\n",
    "    elif prob <= 0.6:\n",
    "        interpretations.append('Pretty much at random')\n",
    "    elif prob < 0.8:\n",
    "        interpretations.append('Frequently')\n",
    "    else:\n",
    "        interpretations.append('Almost always')\n",
    "\n",
    "print(interpretations)"
   ]
  },
  {
   "cell_type": "code",
   "execution_count": 16,
   "metadata": {},
   "outputs": [
    {
     "name": "stdout",
     "output_type": "stream",
     "text": [
      "Almost never count: 1\n",
      "Infrequently count: 6\n",
      "Pretty much at random count: 17\n",
      "Frequently count: 4\n",
      "Almost always count: 2\n"
     ]
    }
   ],
   "source": [
    "print('Almost never count:', len([i for i in interpretations if i == 'Almost never']))\n",
    "print('Infrequently count:', len([i for i in interpretations if i == 'Infrequently']))\n",
    "print('Pretty much at random count:', len([i for i in interpretations if i == 'Pretty much at random']))\n",
    "print('Frequently count:', len([i for i in interpretations if i == 'Frequently']))\n",
    "print('Almost always count:', len([i for i in interpretations if i == 'Almost always']))"
   ]
  },
  {
   "attachments": {},
   "cell_type": "markdown",
   "metadata": {},
   "source": [
    "## Comparison to Other Algorithms"
   ]
  },
  {
   "cell_type": "code",
   "execution_count": 17,
   "metadata": {},
   "outputs": [],
   "source": [
    "def evaluation(X, y, selection):\n",
    "    # Cast the candidate solution to a boolean array.\n",
    "    selected_features = [bool(x) for x in selection]\n",
    "\n",
    "    # Our X and y are the selected features and the diagnosis.\n",
    "    X = X[X.columns[selected_features]]\n",
    "\n",
    "    # Split the data into training and testing sets (arbitrarily an 80-20% split).\n",
    "    X_train, X_test, y_train, y_test = train_test_split(X, y , test_size=0.2, random_state=0)\n",
    "\n",
    "    # Normlaise the data for numerical stability.\n",
    "    # We normalise after splitting to prevent data leakage.\n",
    "    ss_train = StandardScaler()\n",
    "    X_train = ss_train.fit_transform(X_train)\n",
    "\n",
    "    ss_test = StandardScaler()\n",
    "    X_test = ss_test.fit_transform(X_test)\n",
    "\n",
    "    # Define and train a logistic regression model.\n",
    "    model = LogisticRegression()\n",
    "\n",
    "    model.fit(X_train, y_train)\n",
    "\n",
    "    # Determine the accuracy of the model (and hence the fitness of the candidate solution).\n",
    "    y_pred = model.predict(X_test)\n",
    "    return accuracy_score(y_true=y_test, y_pred=y_pred)"
   ]
  },
  {
   "cell_type": "code",
   "execution_count": 20,
   "metadata": {},
   "outputs": [
    {
     "name": "stdout",
     "output_type": "stream",
     "text": [
      "Fitness of GeneSift feature selection: 0.9824561403508771\n"
     ]
    }
   ],
   "source": [
    "# GeneSift selection's fitness...\n",
    "selection = geneSift.find_optimal_features()\n",
    "geneSift_fitness = evaluation(X, y, selection)\n",
    "print(\"Fitness of GeneSift feature selection:\", geneSift_fitness)"
   ]
  },
  {
   "cell_type": "code",
   "execution_count": 21,
   "metadata": {},
   "outputs": [
    {
     "name": "stdout",
     "output_type": "stream",
     "text": [
      "Fitness of low variance feature selection: 0.9473684210526315\n",
      "We improve on low variance feature selection by 3.704%.\n"
     ]
    }
   ],
   "source": [
    "# Low variance feature selection...\n",
    "from sklearn.feature_selection import VarianceThreshold\n",
    "\n",
    "p = 0.8\n",
    "\n",
    "selection_lv = VarianceThreshold(threshold=p * (1 - p))\n",
    "selection_lv.fit_transform(X_train, y_train)\n",
    "selected_features = selection_lv.get_feature_names_out()\n",
    "\n",
    "# Convert this selection into a boolean array.\n",
    "low_variance_selection = []\n",
    "for feature in X.columns:\n",
    "    if feature in selected_features:\n",
    "        low_variance_selection.append(1)\n",
    "    else:\n",
    "        low_variance_selection.append(0)\n",
    "\n",
    "low_variance_fitness = evaluation(X, y, low_variance_selection)\n",
    "print(\"Fitness of low variance feature selection:\", low_variance_fitness) \n",
    "\n",
    "print(\"We improve on low variance feature selection by {}%.\".format(\n",
    "    round(((geneSift_fitness / low_variance_fitness) - 1) * 100, 3)\n",
    "))"
   ]
  },
  {
   "cell_type": "code",
   "execution_count": 23,
   "metadata": {},
   "outputs": [
    {
     "name": "stdout",
     "output_type": "stream",
     "text": [
      "Using k = 14\n",
      "Fitness of low variance feature selection: 0.9473684210526315\n",
      "We improve on low variance feature selection by 3.704%.\n"
     ]
    }
   ],
   "source": [
    "# Univariate feature selection...\n",
    "from sklearn.feature_selection import SelectKBest\n",
    "from sklearn.feature_selection import f_classif\n",
    "\n",
    "k = len([1 for i in range(len(selection)) if selection[i] == 0])\n",
    "print('Using k =', k)\n",
    "\n",
    "# Make the selection.\n",
    "selection_u = SelectKBest(f_classif, k=k).fit_transform(X, y)\n",
    "\n",
    "univariate_selection = []\n",
    "for i in range(len(X.columns)):\n",
    "    column = data.iloc[:,i].values\n",
    "    \n",
    "    if column in selection_u.transpose():\n",
    "        univariate_selection.append(1)\n",
    "    else:\n",
    "        univariate_selection.append(0)\n",
    "\n",
    "univariate_fitness = evaluation(X, y, univariate_selection)\n",
    "print(\"Fitness of low variance feature selection:\", univariate_fitness) \n",
    "\n",
    "print(\"We improve on low variance feature selection by {}%.\".format(\n",
    "    round(((geneSift_fitness / univariate_fitness) - 1) * 100, 3)\n",
    "))"
   ]
  },
  {
   "cell_type": "code",
   "execution_count": 24,
   "metadata": {},
   "outputs": [
    {
     "name": "stdout",
     "output_type": "stream",
     "text": [
      "Using n = 14\n",
      "Fitness of RFE: 0.9649122807017544\n",
      "We improve on RFE by 1.818%.\n"
     ]
    }
   ],
   "source": [
    "# Recursive Feature Elimination (RFE)...\n",
    "from sklearn.tree import DecisionTreeClassifier\n",
    "from sklearn.feature_selection import RFE\n",
    "\n",
    "n = len([1 for i in range(len(selection)) if selection[i] == 0])\n",
    "print('Using n =', k)\n",
    "\n",
    "# Make the selection.\n",
    "selection_rfe = RFE(estimator=DecisionTreeClassifier(), n_features_to_select=n)\n",
    "selection_rfe.fit_transform(X, y)\n",
    "selected_features = selection_rfe.get_feature_names_out()\n",
    "\n",
    "# Convert this selection into a boolean array.\n",
    "rfe_selection = []\n",
    "for feature in X.columns:\n",
    "    if feature in selected_features:\n",
    "        rfe_selection.append(1)\n",
    "    else:\n",
    "        rfe_selection.append(0)\n",
    "\n",
    "rfe_fitness = evaluation(X, y, rfe_selection)\n",
    "print(\"Fitness of RFE:\", rfe_fitness) \n",
    "\n",
    "print(\"We improve on RFE by {}%.\".format(\n",
    "    round(((geneSift_fitness / rfe_fitness) - 1) * 100, 3)\n",
    "))"
   ]
  }
 ],
 "metadata": {
  "kernelspec": {
   "display_name": "Python 3",
   "language": "python",
   "name": "python3"
  },
  "language_info": {
   "codemirror_mode": {
    "name": "ipython",
    "version": 3
   },
   "file_extension": ".py",
   "mimetype": "text/x-python",
   "name": "python",
   "nbconvert_exporter": "python",
   "pygments_lexer": "ipython3",
   "version": "3.9.13"
  },
  "orig_nbformat": 4
 },
 "nbformat": 4,
 "nbformat_minor": 2
}
