{
 "cells": [
  {
   "cell_type": "code",
   "execution_count": 14,
   "metadata": {},
   "outputs": [],
   "source": [
    "# Imports as always...\n",
    "from feature_selection import find_optimal_features\n",
    "from fitness import fitness_function\n",
    "\n",
    "import random\n",
    "import numpy as np"
   ]
  },
  {
   "attachments": {},
   "cell_type": "markdown",
   "metadata": {},
   "source": [
    "## Which Features are Selected?"
   ]
  },
  {
   "attachments": {},
   "cell_type": "markdown",
   "metadata": {},
   "source": [
    "Firstly, we can run our algorithm a number of times to see what proportion of each 'best feature selection' include each feature. That is, we will find the probability that each feature is selected by our algorithm, and we do this by observation (because it is an evolutionary algorithm, so there really isn't a better way to do this!). "
   ]
  },
  {
   "cell_type": "code",
   "execution_count": 3,
   "metadata": {},
   "outputs": [
    {
     "data": {
      "text/plain": [
       "[0.53,\n",
       " 0.77,\n",
       " 0.54,\n",
       " 0.62,\n",
       " 0.25,\n",
       " 0.67,\n",
       " 0.75,\n",
       " 0.63,\n",
       " 0.1,\n",
       " 0.66,\n",
       " 0.35,\n",
       " 0.41,\n",
       " 0.26,\n",
       " 0.36,\n",
       " 0.19,\n",
       " 0.43,\n",
       " 0.48,\n",
       " 0.46,\n",
       " 0.47,\n",
       " 0.15,\n",
       " 0.55,\n",
       " 0.54,\n",
       " 0.63,\n",
       " 0.62,\n",
       " 0.98,\n",
       " 0.55,\n",
       " 0.38,\n",
       " 0.48,\n",
       " 0.6,\n",
       " 0.57]"
      ]
     },
     "execution_count": 3,
     "metadata": {},
     "output_type": "execute_result"
    }
   ],
   "source": [
    "counts = [0] * 30\n",
    "algorithm_runs = 100\n",
    "\n",
    "for i in range(algorithm_runs):\n",
    "    selection = find_optimal_features()\n",
    "\n",
    "    for j in range(30):\n",
    "        counts[j] += selection[j]\n",
    "\n",
    "probabilities = [count / algorithm_runs for count in counts]\n",
    "probabilities"
   ]
  },
  {
   "attachments": {},
   "cell_type": "markdown",
   "metadata": {},
   "source": [
    "We can see that there are some features that are rarely chosen and some that are almost always chosen, but most are selected almost randomly. Let's show more explicitly how we might interpret the above."
   ]
  },
  {
   "cell_type": "code",
   "execution_count": 4,
   "metadata": {},
   "outputs": [
    {
     "data": {
      "text/plain": [
       "['Pretty much at random',\n",
       " 'Frequently',\n",
       " 'Pretty much at random',\n",
       " 'Frequently',\n",
       " 'Infrequently',\n",
       " 'Frequently',\n",
       " 'Frequently',\n",
       " 'Frequently',\n",
       " 'Almost never',\n",
       " 'Frequently',\n",
       " 'Infrequently',\n",
       " 'Pretty much at random',\n",
       " 'Infrequently',\n",
       " 'Infrequently',\n",
       " 'Almost never',\n",
       " 'Pretty much at random',\n",
       " 'Pretty much at random',\n",
       " 'Pretty much at random',\n",
       " 'Pretty much at random',\n",
       " 'Almost never',\n",
       " 'Pretty much at random',\n",
       " 'Pretty much at random',\n",
       " 'Frequently',\n",
       " 'Frequently',\n",
       " 'Almost always',\n",
       " 'Pretty much at random',\n",
       " 'Infrequently',\n",
       " 'Pretty much at random',\n",
       " 'Pretty much at random',\n",
       " 'Pretty much at random']"
      ]
     },
     "execution_count": 4,
     "metadata": {},
     "output_type": "execute_result"
    }
   ],
   "source": [
    "interpretations = []\n",
    "for prob in probabilities:\n",
    "    if prob < 0.2:\n",
    "        interpretations.append('Almost never')\n",
    "    elif prob < 0.4:\n",
    "        interpretations.append('Infrequently')\n",
    "    elif prob <= 0.6:\n",
    "        interpretations.append('Pretty much at random')\n",
    "    elif prob < 0.8:\n",
    "        interpretations.append('Frequently')\n",
    "    else:\n",
    "        interpretations.append('Almost always')\n",
    "\n",
    "interpretations"
   ]
  },
  {
   "attachments": {},
   "cell_type": "markdown",
   "metadata": {},
   "source": [
    "This particular dataset is made up of ten observations split into three features (mean, standard error, and worst), and so we expect lots of inter-correlation. And so, it is perhaps not surprising to see some randomness in the selection -- including one feature of an observation means you can get away with leaving out the other two (e.g. selecting the worst means you can get away with leaving out the mean and worst), so our algorithm settles on one of them pretty much at random.\n",
    "\n",
    "This isn't always the case, as we are very sure that a few of these features should always have the same decision (selection or not selection), and perhaps that has an implication on its inter-correlated features."
   ]
  },
  {
   "attachments": {},
   "cell_type": "markdown",
   "metadata": {},
   "source": [
    "## Comparison with Nothing and Randomness"
   ]
  },
  {
   "attachments": {},
   "cell_type": "markdown",
   "metadata": {},
   "source": [
    "Let's now see how much better our algorithm makes the model over *no feature selection* (i.e. all features) and over *random selection* (which we will check by randomly sampling several combinations of features and averaging the model's performance on each)."
   ]
  },
  {
   "cell_type": "code",
   "execution_count": 16,
   "metadata": {},
   "outputs": [
    {
     "name": "stdout",
     "output_type": "stream",
     "text": [
      "Fitness of our algorithm's feature selection: 0.9912280701754386\n"
     ]
    }
   ],
   "source": [
    "# Our selection's fitness...\n",
    "our_selection = find_optimal_features()\n",
    "our_fitness = fitness_function(our_selection)\n",
    "print(\"Fitness of our algorithm's feature selection:\", our_fitness)"
   ]
  },
  {
   "cell_type": "code",
   "execution_count": 19,
   "metadata": {},
   "outputs": [
    {
     "name": "stdout",
     "output_type": "stream",
     "text": [
      "Fitness of no feature selection: 0.956140350877193\n",
      "We improve on no feature selection by 3.67%.\n"
     ]
    }
   ],
   "source": [
    "# Fitness of no selection.\n",
    "no_selection = [1] * 30\n",
    "no_fitness = fitness_function(no_selection)\n",
    "print(\"Fitness of no feature selection:\", no_fitness) \n",
    "\n",
    "print(\"We improve on no feature selection by {}%.\".format(\n",
    "    round(((our_fitness / no_fitness) - 1) * 100, 3)\n",
    "))"
   ]
  },
  {
   "cell_type": "code",
   "execution_count": 20,
   "metadata": {},
   "outputs": [
    {
     "name": "stdout",
     "output_type": "stream",
     "text": [
      "Fitness of random feature seleciton: 0.9551754385964912\n",
      "We improve on random feature selection by 3.774%.\n"
     ]
    }
   ],
   "source": [
    "# Fitness of random selection.\n",
    "fitnesses = []\n",
    "for i in range(100):\n",
    "    random_selection = [random.randint(0, 1) for i in range(30)]\n",
    "    fitnesses.append(fitness_function(random_selection))\n",
    "random_fitness = np.mean(fitnesses)\n",
    "print(\"Fitness of random feature seleciton:\", random_fitness)\n",
    "\n",
    "print(\"We improve on random feature selection by {}%.\".format(\n",
    "    round(((our_fitness / random_fitness) - 1) * 100, 3)\n",
    "))"
   ]
  },
  {
   "cell_type": "code",
   "execution_count": 6,
   "metadata": {},
   "outputs": [
    {
     "name": "stdout",
     "output_type": "stream",
     "text": [
      "Almost never count: 3\n",
      "Infrequently count: 5\n",
      "Pretty much at random count: 13\n",
      "Frequently count: 8\n",
      "Almost always count: 1\n"
     ]
    }
   ],
   "source": [
    "print('Almost never count:', len([i for i in interpretations if i == 'Almost never']))\n",
    "print('Infrequently count:', len([i for i in interpretations if i == 'Infrequently']))\n",
    "print('Pretty much at random count:', len([i for i in interpretations if i == 'Pretty much at random']))\n",
    "print('Frequently count:', len([i for i in interpretations if i == 'Frequently']))\n",
    "print('Almost always count:', len([i for i in interpretations if i == 'Almost always']))"
   ]
  }
 ],
 "metadata": {
  "kernelspec": {
   "display_name": "Python 3",
   "language": "python",
   "name": "python3"
  },
  "language_info": {
   "codemirror_mode": {
    "name": "ipython",
    "version": 3
   },
   "file_extension": ".py",
   "mimetype": "text/x-python",
   "name": "python",
   "nbconvert_exporter": "python",
   "pygments_lexer": "ipython3",
   "version": "3.9.13"
  },
  "orig_nbformat": 4,
  "vscode": {
   "interpreter": {
    "hash": "51b247d887519ae5f7ee722485e5c6dc7c9b200f006446aff3a9d042e7ab81e7"
   }
  }
 },
 "nbformat": 4,
 "nbformat_minor": 2
}
